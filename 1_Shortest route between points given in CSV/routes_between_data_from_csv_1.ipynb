{
 "cells": [
  {
   "cell_type": "markdown",
   "id": "d7447a2a-297f-4257-8b46-70c08e7a68fd",
   "metadata": {},
   "source": [
    "making routes from \"a\" to \"b\" using networkx package and folium. Point \"a\" is defined by user, point \"b\" is available on csv file"
   ]
  },
  {
   "cell_type": "code",
   "execution_count": 1,
   "id": "0b581fa6-6586-46f7-903f-d22635c942c2",
   "metadata": {},
   "outputs": [],
   "source": [
    "import folium\n",
    "import networkx as nx\n",
    "import pandas as pd"
   ]
  },
  {
   "cell_type": "markdown",
   "id": "fab2cbf9-5cb1-4159-85d5-f64164743f32",
   "metadata": {},
   "source": [
    "Read CSV File into Python using Pandas"
   ]
  },
  {
   "cell_type": "code",
   "execution_count": 2,
   "id": "af3c8409-e5cb-4702-8a8e-b73094f6d3aa",
   "metadata": {},
   "outputs": [
    {
     "name": "stdout",
     "output_type": "stream",
     "text": [
      "  point   latitude  longitude  \\\n",
      "0     A  47.787754  13.034208   \n",
      "1     B  47.793886  13.055290   \n",
      "2     C  47.814415  13.034270   \n",
      "3     D  47.803934  13.037498   \n",
      "\n",
      "                                             details  \n",
      "0                                   Firmianstrasse 2  \n",
      "1                      Ulrike-Gschwandtner-Strasse 6  \n",
      "2                   Lehener Park - Trainingspark ISW  \n",
      "3  BARZFLEX Calisthenics Park Salzburg - Kaiprome...  \n"
     ]
    }
   ],
   "source": [
    "df = pd.read_csv('Sport_facilities.xlsx.csv')\n",
    "print(df)"
   ]
  },
  {
   "cell_type": "markdown",
   "id": "d1aae1e2-2c4d-434d-bd84-071ab9d1f704",
   "metadata": {},
   "source": [
    "Create an empty graph:"
   ]
  },
  {
   "cell_type": "code",
   "execution_count": 3,
   "id": "97f03b95-d3c9-4172-aac1-2618d1870eae",
   "metadata": {},
   "outputs": [],
   "source": [
    "G = nx.Graph()"
   ]
  },
  {
   "cell_type": "markdown",
   "id": "b01b4e5f-c674-42be-9050-082cf071c91f",
   "metadata": {},
   "source": [
    "Adding Nodes to the Graph:\n",
    "\r\n",
    "For each row in the CSV file, you add a node to the graph to represent a destination point.\r\n",
    "Iterate through the rows of the DataFrame and add nodes"
   ]
  },
  {
   "cell_type": "code",
   "execution_count": 4,
   "id": "bcc7164d-8ca4-48dd-bf74-f06eb0f8817a",
   "metadata": {},
   "outputs": [],
   "source": [
    "for _, row in df.iterrows():\n",
    "    G.add_node(row['point'], pos=(row['latitude'], row['longitude']))"
   ]
  },
  {
   "cell_type": "markdown",
   "id": "ebee0eb4-2662-44d7-aae8-8efadfd5f08d",
   "metadata": {},
   "source": [
    "Add edges connecting adjacent points (modify as needed based on your data)\r",
    " Example: G.add_edge('A', 'B', weight=5)"
   ]
  },
  {
   "cell_type": "code",
   "execution_count": null,
   "id": "3c8e0d2e-6b5c-4936-baa2-ee082fa6eb95",
   "metadata": {},
   "outputs": [
    {
     "name": "stdin",
     "output_type": "stream",
     "text": [
      "Enter point 'A':  A\n"
     ]
    },
    {
     "name": "stdout",
     "output_type": "stream",
     "text": [
      "Available destination points:\n",
      "  point                                            details\n",
      "0     A                                   Firmianstrasse 2\n",
      "1     B                      Ulrike-Gschwandtner-Strasse 6\n",
      "2     C                   Lehener Park - Trainingspark ISW\n",
      "3     D  BARZFLEX Calisthenics Park Salzburg - Kaiprome...\n"
     ]
    }
   ],
   "source": [
    "def main():\n",
    "    # Prompt the user to enter point \"A\"\n",
    "    start_point = input(\"Enter point 'A': \").strip().upper()\n",
    "\n",
    "    if start_point not in G:\n",
    "        print(f\"Point '{start_point}' is not available in the data.\")\n",
    "        return\n",
    "\n",
    "    # Prompt the user to select point \"B\" from the CSV data\n",
    "    print(\"Available destination points:\")\n",
    "    print(df[['point', 'details']])  # Display available points for reference\n",
    "    end_point = input(\"Enter the destination point 'B': \").strip().upper()\n",
    "\n",
    "    if end_point not in G:\n",
    "        print(f\"Point '{end_point}' is not available in the data.\")\n",
    "        return\n",
    "\n",
    "    # Find the shortest path from \"A\" to \"B\" using Dijkstra's algorithm\n",
    "    shortest_path = nx.shortest_path(G, source=start_point, target=end_point, weight=None)\n",
    "    shortest_distance = nx.shortest_path_length(G, source=start_point, target=end_point, weight='weight')\n",
    "\n",
    "    print(\"Shortest path:\", shortest_path)\n",
    "    print(\"Shortest distance:\", shortest_distance)\n",
    "\n",
    "    # Create a folium map centered at point \"A\"\n",
    "    map_center = G.nodes[start_point]['pos']\n",
    "    map_route = folium.Map(location=map_center, zoom_start=10)\n",
    "\n",
    "    # Add markers for the points in the shortest path and lines to connect them\n",
    "    for i in range(len(shortest_path) - 1):\n",
    "        point_a, point_b = shortest_path[i], shortest_path[i + 1]\n",
    "        folium.Marker(location=G.nodes[point_a]['pos'], popup=point_a).add_to(map_route)\n",
    "        folium.PolyLine(locations=[G.nodes[point_a]['pos'], G.nodes[point_b]['pos']], color='blue').add_to(map_route)\n",
    "\n",
    "    # Save the map to an HTML file for visualization\n",
    "    map_route.save('route_visualization.html')\n",
    "\n",
    "if __name__ == \"__main__\":\n",
    "    main()"
   ]
  },
  {
   "cell_type": "code",
   "execution_count": null,
   "id": "02a99542-d314-4ec8-85eb-8b46a0e302bb",
   "metadata": {},
   "outputs": [],
   "source": []
  }
 ],
 "metadata": {
  "kernelspec": {
   "display_name": "Python 3 (ipykernel)",
   "language": "python",
   "name": "python3"
  },
  "language_info": {
   "codemirror_mode": {
    "name": "ipython",
    "version": 3
   },
   "file_extension": ".py",
   "mimetype": "text/x-python",
   "name": "python",
   "nbconvert_exporter": "python",
   "pygments_lexer": "ipython3",
   "version": "3.11.4"
  }
 },
 "nbformat": 4,
 "nbformat_minor": 5
}
