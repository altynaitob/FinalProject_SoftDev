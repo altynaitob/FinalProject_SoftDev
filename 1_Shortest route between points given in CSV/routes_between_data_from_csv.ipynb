{
 "cells": [
  {
   "cell_type": "markdown",
   "id": "d7447a2a-297f-4257-8b46-70c08e7a68fd",
   "metadata": {},
   "source": [
    "making routes from \"a\" to \"b\" using networkx package and folium. Point \"a\" is defined by user, point \"b\" is available on csv file"
   ]
  },
  {
   "cell_type": "code",
   "execution_count": 4,
   "id": "0b581fa6-6586-46f7-903f-d22635c942c2",
   "metadata": {},
   "outputs": [],
   "source": [
    "import folium\n",
    "import networkx as nx\n",
    "import pandas as pd"
   ]
  },
  {
   "cell_type": "markdown",
   "id": "fab2cbf9-5cb1-4159-85d5-f64164743f32",
   "metadata": {},
   "source": [
    "Read CSV File into Python using Pandas"
   ]
  },
  {
   "cell_type": "code",
   "execution_count": 5,
   "id": "af3c8409-e5cb-4702-8a8e-b73094f6d3aa",
   "metadata": {},
   "outputs": [
    {
     "name": "stdout",
     "output_type": "stream",
     "text": [
      "  point   latitude  longitude  \\\n",
      "0     A  47.787754  13.034208   \n",
      "1     B  47.793886  13.055290   \n",
      "2     C  47.814415  13.034270   \n",
      "3     D  47.803934  13.037498   \n",
      "\n",
      "                                             details  \n",
      "0                                   Firmianstrasse 2  \n",
      "1                      Ulrike-Gschwandtner-Strasse 6  \n",
      "2                   Lehener Park - Trainingspark ISW  \n",
      "3  BARZFLEX Calisthenics Park Salzburg - Kaiprome...  \n"
     ]
    }
   ],
   "source": [
    "df = pd.read_csv('Sport_facilities.xlsx.csv')\n",
    "print(df)"
   ]
  },
  {
   "cell_type": "markdown",
   "id": "d1aae1e2-2c4d-434d-bd84-071ab9d1f704",
   "metadata": {},
   "source": [
    "Create an empty graph:"
   ]
  },
  {
   "cell_type": "code",
   "execution_count": 9,
   "id": "97f03b95-d3c9-4172-aac1-2618d1870eae",
   "metadata": {},
   "outputs": [],
   "source": [
    "G = nx.Graph()"
   ]
  },
  {
   "cell_type": "markdown",
   "id": "b01b4e5f-c674-42be-9050-082cf071c91f",
   "metadata": {},
   "source": [
    "Adding Nodes to the Graph:\n",
    "\r\n",
    "For each row in the CSV file, you add a node to the graph to represent a destination point.\r\n",
    "Iterate through the rows of the DataFrame and add nodes"
   ]
  },
  {
   "cell_type": "code",
   "execution_count": 10,
   "id": "bcc7164d-8ca4-48dd-bf74-f06eb0f8817a",
   "metadata": {},
   "outputs": [],
   "source": [
    "for _, row in df.iterrows():\n",
    "    G.add_node(row['point'], pos=(row['latitude'], row['longitude']))"
   ]
  },
  {
   "cell_type": "markdown",
   "id": "ebee0eb4-2662-44d7-aae8-8efadfd5f08d",
   "metadata": {},
   "source": [
    "Add edges connecting adjacent points (modify as needed based on your data)\r",
    " Example: G.add_edge('A', 'B', weight=5)"
   ]
  },
  {
   "cell_type": "code",
   "execution_count": 14,
   "id": "835ae6ec-9a3b-4622-b1cc-f3d995b311ab",
   "metadata": {},
   "outputs": [],
   "source": [
    "def main():\n",
    "    # Prompt the user to enter point \"A\"\n",
    "    start_point = input(\"Enter point 'A': \").strip().upper()\n",
    "    \n",
    "    if start_point not in G:\n",
    "        print(f\"Point '{start_point}' is not available in the data.\")\n",
    "        return\n",
    "\n",
    "# Prompt the user to select point \"B\" from the CSV data\n",
    "    print(\"Available destination points:\")\n",
    "    print(df[['point', 'details']])  # Display available points for reference\n",
    "    end_point = input(\"Enter the destination point 'B': \").strip().upper()\n",
    "\n",
    "    if end_point not in G:\n",
    "        print(f\"Point '{end_point}' is not available in the data.\")\n",
    "        return\n",
    "\n",
    "    # Find the shortest path from \"A\" to \"B\" using Dijkstra's algorithm\n",
    "    shortest_path = nx.shortest_path(G, source=start_point, target=end_point, weight=None)\n",
    "    shortest_distance = nx.shortest_path_length(G, source=start_point, target=end_point, weight='weight')\n",
    "\n",
    "    print(\"Shortest path:\", shortest_path)\n",
    "    print(\"Shortest distance:\", shortest_distance)\n",
    "\n",
    "    # Create a folium map centered at point \"A\"\n",
    "    map_center = G.nodes[start_point]['pos']\n",
    "    map_route = folium.Map(location=map_center, zoom_start=10)\n",
    "\n",
    "    # Add markers for the points in the shortest path and lines to connect them\n",
    "    for i in range(len(shortest_path) - 1):\n",
    "        point_a, point_b = shortest_path[i], shortest_path[i + 1]\n",
    "        folium.Marker(location=G.nodes[point_a]['pos'], popup=point_a).add_to(map_route)\n",
    "        folium.PolyLine(locations=[G.nodes[point_a]['pos'], G.nodes[point_b]['pos']], color='blue').add_to(map_route)\n",
    "\n",
    "    # Save the map to an HTML file for visualization\n",
    "    map_route.save('route_visualization.html')"
   ]
  },
  {
   "cell_type": "code",
   "execution_count": 18,
   "id": "dcda0a31-8cc1-4435-93db-0acc522b06e2",
   "metadata": {},
   "outputs": [
    {
     "name": "stdin",
     "output_type": "stream",
     "text": [
      "Enter point 'A':  B\n"
     ]
    },
    {
     "name": "stdout",
     "output_type": "stream",
     "text": [
      "Available destination points:\n",
      "  point                                            details\n",
      "0     A                                   Firmianstrasse 2\n",
      "1     B                      Ulrike-Gschwandtner-Strasse 6\n",
      "2     C                   Lehener Park - Trainingspark ISW\n",
      "3     D  BARZFLEX Calisthenics Park Salzburg - Kaiprome...\n"
     ]
    },
    {
     "name": "stdin",
     "output_type": "stream",
     "text": [
      "Enter the destination point 'B':  C\n"
     ]
    },
    {
     "ename": "NetworkXNoPath",
     "evalue": "No path between B and C.",
     "output_type": "error",
     "traceback": [
      "\u001b[1;31m---------------------------------------------------------------------------\u001b[0m",
      "\u001b[1;31mNetworkXNoPath\u001b[0m                            Traceback (most recent call last)",
      "Cell \u001b[1;32mIn[18], line 2\u001b[0m\n\u001b[0;32m      1\u001b[0m \u001b[38;5;28;01mif\u001b[39;00m \u001b[38;5;18m__name__\u001b[39m \u001b[38;5;241m==\u001b[39m \u001b[38;5;124m\"\u001b[39m\u001b[38;5;124m__main__\u001b[39m\u001b[38;5;124m\"\u001b[39m:\n\u001b[1;32m----> 2\u001b[0m     \u001b[43mmain\u001b[49m\u001b[43m(\u001b[49m\u001b[43m)\u001b[49m\n",
      "Cell \u001b[1;32mIn[14], line 19\u001b[0m, in \u001b[0;36mmain\u001b[1;34m()\u001b[0m\n\u001b[0;32m     16\u001b[0m     \u001b[38;5;28;01mreturn\u001b[39;00m\n\u001b[0;32m     18\u001b[0m \u001b[38;5;66;03m# Find the shortest path from \"A\" to \"B\" using Dijkstra's algorithm\u001b[39;00m\n\u001b[1;32m---> 19\u001b[0m shortest_path \u001b[38;5;241m=\u001b[39m \u001b[43mnx\u001b[49m\u001b[38;5;241;43m.\u001b[39;49m\u001b[43mshortest_path\u001b[49m\u001b[43m(\u001b[49m\u001b[43mG\u001b[49m\u001b[43m,\u001b[49m\u001b[43m \u001b[49m\u001b[43msource\u001b[49m\u001b[38;5;241;43m=\u001b[39;49m\u001b[43mstart_point\u001b[49m\u001b[43m,\u001b[49m\u001b[43m \u001b[49m\u001b[43mtarget\u001b[49m\u001b[38;5;241;43m=\u001b[39;49m\u001b[43mend_point\u001b[49m\u001b[43m,\u001b[49m\u001b[43m \u001b[49m\u001b[43mweight\u001b[49m\u001b[38;5;241;43m=\u001b[39;49m\u001b[38;5;28;43;01mNone\u001b[39;49;00m\u001b[43m)\u001b[49m\n\u001b[0;32m     20\u001b[0m shortest_distance \u001b[38;5;241m=\u001b[39m nx\u001b[38;5;241m.\u001b[39mshortest_path_length(G, source\u001b[38;5;241m=\u001b[39mstart_point, target\u001b[38;5;241m=\u001b[39mend_point, weight\u001b[38;5;241m=\u001b[39m\u001b[38;5;124m'\u001b[39m\u001b[38;5;124mweight\u001b[39m\u001b[38;5;124m'\u001b[39m)\n\u001b[0;32m     22\u001b[0m \u001b[38;5;28mprint\u001b[39m(\u001b[38;5;124m\"\u001b[39m\u001b[38;5;124mShortest path:\u001b[39m\u001b[38;5;124m\"\u001b[39m, shortest_path)\n",
      "File \u001b[1;32m~\\miniconda3\\envs\\FinalProject\\Lib\\site-packages\\networkx\\classes\\backends.py:148\u001b[0m, in \u001b[0;36m_dispatch.<locals>.wrapper\u001b[1;34m(*args, **kwds)\u001b[0m\n\u001b[0;32m    144\u001b[0m         \u001b[38;5;28;01melse\u001b[39;00m:\n\u001b[0;32m    145\u001b[0m             \u001b[38;5;28;01mraise\u001b[39;00m NetworkXNotImplemented(\n\u001b[0;32m    146\u001b[0m                 \u001b[38;5;124mf\u001b[39m\u001b[38;5;124m\"\u001b[39m\u001b[38;5;124m'\u001b[39m\u001b[38;5;132;01m{\u001b[39;00mname\u001b[38;5;132;01m}\u001b[39;00m\u001b[38;5;124m'\u001b[39m\u001b[38;5;124m not implemented by \u001b[39m\u001b[38;5;132;01m{\u001b[39;00mplugin_name\u001b[38;5;132;01m}\u001b[39;00m\u001b[38;5;124m\"\u001b[39m\n\u001b[0;32m    147\u001b[0m             )\n\u001b[1;32m--> 148\u001b[0m \u001b[38;5;28;01mreturn\u001b[39;00m \u001b[43mfunc\u001b[49m\u001b[43m(\u001b[49m\u001b[38;5;241;43m*\u001b[39;49m\u001b[43margs\u001b[49m\u001b[43m,\u001b[49m\u001b[43m \u001b[49m\u001b[38;5;241;43m*\u001b[39;49m\u001b[38;5;241;43m*\u001b[39;49m\u001b[43mkwds\u001b[49m\u001b[43m)\u001b[49m\n",
      "File \u001b[1;32m~\\miniconda3\\envs\\FinalProject\\Lib\\site-packages\\networkx\\algorithms\\shortest_paths\\generic.py:171\u001b[0m, in \u001b[0;36mshortest_path\u001b[1;34m(G, source, target, weight, method)\u001b[0m\n\u001b[0;32m    168\u001b[0m \u001b[38;5;28;01melse\u001b[39;00m:\n\u001b[0;32m    169\u001b[0m     \u001b[38;5;66;03m# Find shortest source-target path.\u001b[39;00m\n\u001b[0;32m    170\u001b[0m     \u001b[38;5;28;01mif\u001b[39;00m method \u001b[38;5;241m==\u001b[39m \u001b[38;5;124m\"\u001b[39m\u001b[38;5;124munweighted\u001b[39m\u001b[38;5;124m\"\u001b[39m:\n\u001b[1;32m--> 171\u001b[0m         paths \u001b[38;5;241m=\u001b[39m \u001b[43mnx\u001b[49m\u001b[38;5;241;43m.\u001b[39;49m\u001b[43mbidirectional_shortest_path\u001b[49m\u001b[43m(\u001b[49m\u001b[43mG\u001b[49m\u001b[43m,\u001b[49m\u001b[43m \u001b[49m\u001b[43msource\u001b[49m\u001b[43m,\u001b[49m\u001b[43m \u001b[49m\u001b[43mtarget\u001b[49m\u001b[43m)\u001b[49m\n\u001b[0;32m    172\u001b[0m     \u001b[38;5;28;01melif\u001b[39;00m method \u001b[38;5;241m==\u001b[39m \u001b[38;5;124m\"\u001b[39m\u001b[38;5;124mdijkstra\u001b[39m\u001b[38;5;124m\"\u001b[39m:\n\u001b[0;32m    173\u001b[0m         _, paths \u001b[38;5;241m=\u001b[39m nx\u001b[38;5;241m.\u001b[39mbidirectional_dijkstra(G, source, target, weight)\n",
      "File \u001b[1;32m~\\miniconda3\\envs\\FinalProject\\Lib\\site-packages\\networkx\\algorithms\\shortest_paths\\unweighted.py:240\u001b[0m, in \u001b[0;36mbidirectional_shortest_path\u001b[1;34m(G, source, target)\u001b[0m\n\u001b[0;32m    237\u001b[0m     \u001b[38;5;28;01mraise\u001b[39;00m nx\u001b[38;5;241m.\u001b[39mNodeNotFound(msg)\n\u001b[0;32m    239\u001b[0m \u001b[38;5;66;03m# call helper to do the real work\u001b[39;00m\n\u001b[1;32m--> 240\u001b[0m results \u001b[38;5;241m=\u001b[39m \u001b[43m_bidirectional_pred_succ\u001b[49m\u001b[43m(\u001b[49m\u001b[43mG\u001b[49m\u001b[43m,\u001b[49m\u001b[43m \u001b[49m\u001b[43msource\u001b[49m\u001b[43m,\u001b[49m\u001b[43m \u001b[49m\u001b[43mtarget\u001b[49m\u001b[43m)\u001b[49m\n\u001b[0;32m    241\u001b[0m pred, succ, w \u001b[38;5;241m=\u001b[39m results\n\u001b[0;32m    243\u001b[0m \u001b[38;5;66;03m# build path from pred+w+succ\u001b[39;00m\n",
      "File \u001b[1;32m~\\miniconda3\\envs\\FinalProject\\Lib\\site-packages\\networkx\\algorithms\\shortest_paths\\unweighted.py:308\u001b[0m, in \u001b[0;36m_bidirectional_pred_succ\u001b[1;34m(G, source, target)\u001b[0m\n\u001b[0;32m    305\u001b[0m                 \u001b[38;5;28;01mif\u001b[39;00m w \u001b[38;5;129;01min\u001b[39;00m pred:  \u001b[38;5;66;03m# found path\u001b[39;00m\n\u001b[0;32m    306\u001b[0m                     \u001b[38;5;28;01mreturn\u001b[39;00m pred, succ, w\n\u001b[1;32m--> 308\u001b[0m \u001b[38;5;28;01mraise\u001b[39;00m nx\u001b[38;5;241m.\u001b[39mNetworkXNoPath(\u001b[38;5;124mf\u001b[39m\u001b[38;5;124m\"\u001b[39m\u001b[38;5;124mNo path between \u001b[39m\u001b[38;5;132;01m{\u001b[39;00msource\u001b[38;5;132;01m}\u001b[39;00m\u001b[38;5;124m and \u001b[39m\u001b[38;5;132;01m{\u001b[39;00mtarget\u001b[38;5;132;01m}\u001b[39;00m\u001b[38;5;124m.\u001b[39m\u001b[38;5;124m\"\u001b[39m)\n",
      "\u001b[1;31mNetworkXNoPath\u001b[0m: No path between B and C."
     ]
    }
   ],
   "source": [
    "if __name__ == \"__main__\":\n",
    "    main()"
   ]
  },
  {
   "cell_type": "code",
   "execution_count": null,
   "id": "9b3b1520-bf78-4be7-b0a8-026361f03e21",
   "metadata": {},
   "outputs": [],
   "source": []
  }
 ],
 "metadata": {
  "kernelspec": {
   "display_name": "Python 3 (ipykernel)",
   "language": "python",
   "name": "python3"
  },
  "language_info": {
   "codemirror_mode": {
    "name": "ipython",
    "version": 3
   },
   "file_extension": ".py",
   "mimetype": "text/x-python",
   "name": "python",
   "nbconvert_exporter": "python",
   "pygments_lexer": "ipython3",
   "version": "3.11.4"
  }
 },
 "nbformat": 4,
 "nbformat_minor": 5
}
